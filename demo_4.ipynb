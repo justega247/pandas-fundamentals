{
 "cells": [
  {
   "cell_type": "code",
   "execution_count": 1,
   "id": "searching-hearing",
   "metadata": {},
   "outputs": [],
   "source": [
    "# Operation on Groups"
   ]
  },
  {
   "cell_type": "code",
   "execution_count": 2,
   "id": "sacred-adobe",
   "metadata": {},
   "outputs": [],
   "source": [
    "## Iteration"
   ]
  },
  {
   "cell_type": "code",
   "execution_count": 3,
   "id": "weekly-dubai",
   "metadata": {},
   "outputs": [],
   "source": [
    "import pandas as pd\n",
    "import os"
   ]
  },
  {
   "cell_type": "code",
   "execution_count": 4,
   "id": "leading-version",
   "metadata": {},
   "outputs": [],
   "source": [
    "# Let's load the data for the first time\n",
    "df = pd.read_pickle(os.path.join('data_frame.pickle'))"
   ]
  },
  {
   "cell_type": "code",
   "execution_count": 5,
   "id": "virtual-organ",
   "metadata": {},
   "outputs": [
    {
     "data": {
      "text/plain": [
       "pandas.core.groupby.generic.DataFrameGroupBy"
      ]
     },
     "execution_count": 5,
     "metadata": {},
     "output_type": "execute_result"
    }
   ],
   "source": [
    "small_df = df.iloc[49980:50019, :].copy()\n",
    "grouped = small_df.groupby('artist')\n",
    "type(grouped)"
   ]
  },
  {
   "cell_type": "code",
   "execution_count": 7,
   "id": "scientific-nylon",
   "metadata": {},
   "outputs": [
    {
     "name": "stdout",
     "output_type": "stream",
     "text": [
      "Frost, Sir Terry\n",
      "                artist            title               medium    year  \\\n",
      "id                                                                     \n",
      "4704  Frost, Sir Terry        Blue Moon  Lithograph on paper  1952.0   \n",
      "4705  Frost, Sir Terry      Boat Shapes     Linocut on paper  1952.0   \n",
      "4706  Frost, Sir Terry      Boat Shapes     Linocut on paper  1954.0   \n",
      "4707  Frost, Sir Terry      Boat Shapes     Linocut on paper  1954.0   \n",
      "4708  Frost, Sir Terry            Leeds    Drypoint on paper  1956.0   \n",
      "4709  Frost, Sir Terry  Camping, Anduze     Etching on paper  1979.0   \n",
      "4710  Frost, Sir Terry     Umea, Sweden     Etching on paper  1979.0   \n",
      "4711  Frost, Sir Terry    Self-Portrait     Etching on paper  1980.0   \n",
      "\n",
      "      acquisitionYear width height units  \n",
      "id                                        \n",
      "4704           1983.0   355    273    mm  \n",
      "4705           1983.0   132    143    mm  \n",
      "4706           1983.0   131    155    mm  \n",
      "4707           1983.0   193    267    mm  \n",
      "4708           1983.0   125    167    mm  \n",
      "4709           1983.0   257    209    mm  \n",
      "4710           1983.0   NaN    NaN   NaN  \n",
      "4711           1983.0   277    200    mm  \n"
     ]
    }
   ],
   "source": [
    "for name, group_df in grouped:\n",
    "    print(name)\n",
    "    print(group_df)\n",
    "    break"
   ]
  },
  {
   "cell_type": "code",
   "execution_count": 8,
   "id": "serious-costume",
   "metadata": {},
   "outputs": [],
   "source": [
    "# Aggregate\n",
    "# Mins"
   ]
  },
  {
   "cell_type": "code",
   "execution_count": 10,
   "id": "shared-michigan",
   "metadata": {},
   "outputs": [
    {
     "name": "stdout",
     "output_type": "stream",
     "text": [
      "Frost, Sir Terry: 1983.0\n",
      "Phillips, Esq Tom: 1983.0\n",
      "Wols: 1983.0\n"
     ]
    }
   ],
   "source": [
    "for name, group_df in small_df.groupby('artist'):\n",
    "    min_year = group_df['acquisitionYear'].min()\n",
    "    print(f\"{name}: {min_year}\")"
   ]
  },
  {
   "cell_type": "code",
   "execution_count": 11,
   "id": "little-creator",
   "metadata": {},
   "outputs": [],
   "source": [
    "# Transform\n",
    "# Equivalent of editing by hand:\n",
    "# Make a case when there is no data to infer\n",
    "# small_df.loc[[11838, 16441], 'medium'] = np.nan"
   ]
  },
  {
   "cell_type": "code",
   "execution_count": 12,
   "id": "figured-healing",
   "metadata": {},
   "outputs": [],
   "source": [
    "def fill_values(series):\n",
    "    values_counted = series.value_counts()\n",
    "    if values_counted.empty:\n",
    "        return series\n",
    "    most_frequent = values_counted.index[0]\n",
    "    new_medium = series.fillna(most_frequent)\n",
    "    return new_medium"
   ]
  },
  {
   "cell_type": "code",
   "execution_count": 13,
   "id": "mechanical-fitness",
   "metadata": {},
   "outputs": [],
   "source": [
    "def transform_df(source_df):\n",
    "    group_dfs = []\n",
    "    for name, group_df in source_df.groupby('artist'):\n",
    "        filled_df = group_df.copy()\n",
    "        filled_df.loc[:, 'medium'] = fill_values(group_df['medium'])\n",
    "        group_dfs.append(filled_df)\n",
    "        \n",
    "    new_df = pd.concat(group_dfs)\n",
    "    return new_df"
   ]
  },
  {
   "cell_type": "code",
   "execution_count": 15,
   "id": "ranging-traveler",
   "metadata": {},
   "outputs": [],
   "source": [
    "# Now check the result\n",
    "filled_df = transform_df(small_df)"
   ]
  },
  {
   "cell_type": "code",
   "execution_count": 16,
   "id": "closing-burke",
   "metadata": {},
   "outputs": [],
   "source": [
    "# BUILT-INS\n",
    "# Transform"
   ]
  },
  {
   "cell_type": "code",
   "execution_count": 17,
   "id": "incident-concept",
   "metadata": {},
   "outputs": [],
   "source": [
    "grouped_medium = small_df.groupby('artist')['medium']\n",
    "small_df.loc[:, 'medium'] = grouped_medium.transform(fill_values)"
   ]
  },
  {
   "cell_type": "code",
   "execution_count": 18,
   "id": "known-monday",
   "metadata": {},
   "outputs": [],
   "source": [
    "import numpy as np"
   ]
  },
  {
   "cell_type": "code",
   "execution_count": 19,
   "id": "becoming-support",
   "metadata": {},
   "outputs": [],
   "source": [
    "# Finding minimum using inbuilt method"
   ]
  },
  {
   "cell_type": "code",
   "execution_count": 20,
   "id": "sharp-presence",
   "metadata": {},
   "outputs": [],
   "source": [
    "grouped_acq_year = df.groupby('artist')['acquisitionYear']\n",
    "min_acquisition_years = grouped_acq_year"
   ]
  },
  {
   "cell_type": "code",
   "execution_count": 21,
   "id": "uniform-memory",
   "metadata": {},
   "outputs": [],
   "source": [
    "min_acquisition_years = grouped_acq_year.min()"
   ]
  },
  {
   "cell_type": "code",
   "execution_count": 22,
   "id": "ready-jacket",
   "metadata": {},
   "outputs": [],
   "source": [
    "# Min"
   ]
  },
  {
   "cell_type": "code",
   "execution_count": 32,
   "id": "typical-armor",
   "metadata": {},
   "outputs": [
    {
     "data": {
      "text/plain": [
       "artist\n",
       "?British School           1927.0\n",
       "Abakanowicz, Magdalena    2009.0\n",
       "Abbey, Edwin Austin       1924.0\n",
       "Abbott, Berenice          2010.0\n",
       "Abbott, Lemuel Francis    1885.0\n",
       "                           ...  \n",
       "Zuloaga, Ignacio          1923.0\n",
       "Zyw, Aleksander           1962.0\n",
       "di Suvero, Mark           2004.0\n",
       "van Elk, Ger              1980.0\n",
       "Štyrský, Jindrich         2007.0\n",
       "Name: acquisitionYear, Length: 3336, dtype: float64"
      ]
     },
     "execution_count": 32,
     "metadata": {},
     "output_type": "execute_result"
    }
   ],
   "source": [
    "df.groupby('artist')['acquisitionYear'].min()"
   ]
  },
  {
   "cell_type": "code",
   "execution_count": 33,
   "id": "robust-announcement",
   "metadata": {},
   "outputs": [
    {
     "data": {
      "text/plain": [
       "artist\n",
       "?British School           1927.0\n",
       "Abakanowicz, Magdalena    2009.0\n",
       "Abbey, Edwin Austin       1924.0\n",
       "Abbott, Berenice          2010.0\n",
       "Abbott, Lemuel Francis    1885.0\n",
       "                           ...  \n",
       "Zuloaga, Ignacio          1923.0\n",
       "Zyw, Aleksander           1962.0\n",
       "di Suvero, Mark           2004.0\n",
       "van Elk, Ger              1980.0\n",
       "Štyrský, Jindrich         2007.0\n",
       "Name: acquisitionYear, Length: 3336, dtype: float64"
      ]
     },
     "execution_count": 33,
     "metadata": {},
     "output_type": "execute_result"
    }
   ],
   "source": [
    "df.groupby('artist')['acquisitionYear'].agg(np.min)"
   ]
  },
  {
   "cell_type": "code",
   "execution_count": 34,
   "id": "certified-interaction",
   "metadata": {},
   "outputs": [],
   "source": [
    "# Filter"
   ]
  },
  {
   "cell_type": "code",
   "execution_count": 35,
   "id": "naked-canadian",
   "metadata": {},
   "outputs": [],
   "source": [
    "grouped_titles = df.groupby('title')\n",
    "title_counts = grouped_titles.size().sort_values(ascending=False)"
   ]
  },
  {
   "cell_type": "code",
   "execution_count": 37,
   "id": "radio-visitor",
   "metadata": {},
   "outputs": [],
   "source": [
    "condition = lambda x: len(x.index) > 1\n",
    "dup_titles_df = grouped_titles.filter(condition)\n",
    "dup_titles_df.sort_values('title', inplace=True)"
   ]
  },
  {
   "cell_type": "code",
   "execution_count": null,
   "id": "removed-string",
   "metadata": {},
   "outputs": [],
   "source": []
  }
 ],
 "metadata": {
  "kernelspec": {
   "display_name": "Python 3",
   "language": "python",
   "name": "python3"
  },
  "language_info": {
   "codemirror_mode": {
    "name": "ipython",
    "version": 3
   },
   "file_extension": ".py",
   "mimetype": "text/x-python",
   "name": "python",
   "nbconvert_exporter": "python",
   "pygments_lexer": "ipython3",
   "version": "3.7.10"
  }
 },
 "nbformat": 4,
 "nbformat_minor": 5
}
