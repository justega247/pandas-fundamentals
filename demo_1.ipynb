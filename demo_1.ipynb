{
 "cells": [
  {
   "cell_type": "code",
   "execution_count": 1,
   "id": "covered-washer",
   "metadata": {},
   "outputs": [],
   "source": [
    "import numpy as np"
   ]
  },
  {
   "cell_type": "code",
   "execution_count": 2,
   "id": "angry-congress",
   "metadata": {},
   "outputs": [],
   "source": [
    "my_numpy_array = np.random.rand(3)"
   ]
  },
  {
   "cell_type": "code",
   "execution_count": 3,
   "id": "defined-jacket",
   "metadata": {},
   "outputs": [
    {
     "data": {
      "text/plain": [
       "array([0.92788694, 0.22267188, 0.3045789 ])"
      ]
     },
     "execution_count": 3,
     "metadata": {},
     "output_type": "execute_result"
    }
   ],
   "source": [
    "my_numpy_array"
   ]
  },
  {
   "cell_type": "code",
   "execution_count": 4,
   "id": "colonial-biodiversity",
   "metadata": {},
   "outputs": [
    {
     "data": {
      "text/plain": [
       "numpy.ndarray"
      ]
     },
     "execution_count": 4,
     "metadata": {},
     "output_type": "execute_result"
    }
   ],
   "source": [
    "type(my_numpy_array)"
   ]
  },
  {
   "cell_type": "code",
   "execution_count": 5,
   "id": "regular-understanding",
   "metadata": {},
   "outputs": [
    {
     "data": {
      "text/plain": [
       "0.9278869413319689"
      ]
     },
     "execution_count": 5,
     "metadata": {},
     "output_type": "execute_result"
    }
   ],
   "source": [
    "my_numpy_array[0]"
   ]
  },
  {
   "cell_type": "code",
   "execution_count": 6,
   "id": "russian-liberty",
   "metadata": {},
   "outputs": [],
   "source": [
    "import pandas as pd"
   ]
  },
  {
   "cell_type": "code",
   "execution_count": 7,
   "id": "younger-senate",
   "metadata": {},
   "outputs": [],
   "source": [
    "my_series = pd.Series(my_numpy_array)"
   ]
  },
  {
   "cell_type": "code",
   "execution_count": 8,
   "id": "developed-charter",
   "metadata": {},
   "outputs": [
    {
     "data": {
      "text/plain": [
       "0    0.927887\n",
       "1    0.222672\n",
       "2    0.304579\n",
       "dtype: float64"
      ]
     },
     "execution_count": 8,
     "metadata": {},
     "output_type": "execute_result"
    }
   ],
   "source": [
    "my_series"
   ]
  },
  {
   "cell_type": "code",
   "execution_count": 9,
   "id": "technological-produce",
   "metadata": {},
   "outputs": [
    {
     "data": {
      "text/plain": [
       "pandas.core.series.Series"
      ]
     },
     "execution_count": 9,
     "metadata": {},
     "output_type": "execute_result"
    }
   ],
   "source": [
    "type(my_series)"
   ]
  },
  {
   "cell_type": "code",
   "execution_count": 10,
   "id": "indonesian-bunny",
   "metadata": {},
   "outputs": [
    {
     "data": {
      "text/plain": [
       "0.9278869413319689"
      ]
     },
     "execution_count": 10,
     "metadata": {},
     "output_type": "execute_result"
    }
   ],
   "source": [
    "my_series[0]"
   ]
  },
  {
   "cell_type": "code",
   "execution_count": 12,
   "id": "worthy-incident",
   "metadata": {},
   "outputs": [],
   "source": [
    "my_series = pd.Series(my_numpy_array, index=[\"First\", \"Second\", \"Third\"])"
   ]
  },
  {
   "cell_type": "code",
   "execution_count": 13,
   "id": "efficient-flexibility",
   "metadata": {},
   "outputs": [
    {
     "data": {
      "text/plain": [
       "0.30457890118465036"
      ]
     },
     "execution_count": 13,
     "metadata": {},
     "output_type": "execute_result"
    }
   ],
   "source": [
    "my_series[\"Third\"]"
   ]
  },
  {
   "cell_type": "code",
   "execution_count": 14,
   "id": "presidential-commonwealth",
   "metadata": {},
   "outputs": [
    {
     "data": {
      "text/plain": [
       "First     0.927887\n",
       "Second    0.222672\n",
       "Third     0.304579\n",
       "dtype: float64"
      ]
     },
     "execution_count": 14,
     "metadata": {},
     "output_type": "execute_result"
    }
   ],
   "source": [
    "my_series\n"
   ]
  },
  {
   "cell_type": "code",
   "execution_count": 15,
   "id": "visible-metro",
   "metadata": {},
   "outputs": [
    {
     "data": {
      "text/plain": [
       "Index(['First', 'Second', 'Third'], dtype='object')"
      ]
     },
     "execution_count": 15,
     "metadata": {},
     "output_type": "execute_result"
    }
   ],
   "source": [
    "my_series.index"
   ]
  },
  {
   "cell_type": "code",
   "execution_count": 16,
   "id": "mexican-firewall",
   "metadata": {},
   "outputs": [],
   "source": [
    "array_2d = np.random.rand(3, 2)"
   ]
  },
  {
   "cell_type": "code",
   "execution_count": 17,
   "id": "varying-headline",
   "metadata": {},
   "outputs": [
    {
     "data": {
      "text/plain": [
       "array([[0.4089759 , 0.18082994],\n",
       "       [0.5193681 , 0.09586259],\n",
       "       [0.02347411, 0.79607061]])"
      ]
     },
     "execution_count": 17,
     "metadata": {},
     "output_type": "execute_result"
    }
   ],
   "source": [
    "array_2d"
   ]
  },
  {
   "cell_type": "code",
   "execution_count": 18,
   "id": "metropolitan-purchase",
   "metadata": {},
   "outputs": [
    {
     "data": {
      "text/plain": [
       "0.09586259059205748"
      ]
     },
     "execution_count": 18,
     "metadata": {},
     "output_type": "execute_result"
    }
   ],
   "source": [
    "array_2d[1][1]"
   ]
  },
  {
   "cell_type": "code",
   "execution_count": 19,
   "id": "downtown-incident",
   "metadata": {},
   "outputs": [
    {
     "data": {
      "text/plain": [
       "0.7960706079392147"
      ]
     },
     "execution_count": 19,
     "metadata": {},
     "output_type": "execute_result"
    }
   ],
   "source": [
    "array_2d[2][1]"
   ]
  },
  {
   "cell_type": "code",
   "execution_count": 20,
   "id": "north-karen",
   "metadata": {},
   "outputs": [
    {
     "data": {
      "text/plain": [
       "0.7960706079392147"
      ]
     },
     "execution_count": 20,
     "metadata": {},
     "output_type": "execute_result"
    }
   ],
   "source": [
    "array_2d[2, 1]"
   ]
  },
  {
   "cell_type": "code",
   "execution_count": 21,
   "id": "eligible-enzyme",
   "metadata": {},
   "outputs": [
    {
     "data": {
      "text/plain": [
       "array([0.02347411, 0.79607061])"
      ]
     },
     "execution_count": 21,
     "metadata": {},
     "output_type": "execute_result"
    }
   ],
   "source": [
    "array_2d[2]"
   ]
  },
  {
   "cell_type": "code",
   "execution_count": 22,
   "id": "lesbian-texture",
   "metadata": {},
   "outputs": [],
   "source": [
    "df = pd.DataFrame(array_2d)"
   ]
  },
  {
   "cell_type": "code",
   "execution_count": 23,
   "id": "eligible-undergraduate",
   "metadata": {},
   "outputs": [
    {
     "data": {
      "text/html": [
       "<div>\n",
       "<style scoped>\n",
       "    .dataframe tbody tr th:only-of-type {\n",
       "        vertical-align: middle;\n",
       "    }\n",
       "\n",
       "    .dataframe tbody tr th {\n",
       "        vertical-align: top;\n",
       "    }\n",
       "\n",
       "    .dataframe thead th {\n",
       "        text-align: right;\n",
       "    }\n",
       "</style>\n",
       "<table border=\"1\" class=\"dataframe\">\n",
       "  <thead>\n",
       "    <tr style=\"text-align: right;\">\n",
       "      <th></th>\n",
       "      <th>0</th>\n",
       "      <th>1</th>\n",
       "    </tr>\n",
       "  </thead>\n",
       "  <tbody>\n",
       "    <tr>\n",
       "      <th>0</th>\n",
       "      <td>0.408976</td>\n",
       "      <td>0.180830</td>\n",
       "    </tr>\n",
       "    <tr>\n",
       "      <th>1</th>\n",
       "      <td>0.519368</td>\n",
       "      <td>0.095863</td>\n",
       "    </tr>\n",
       "    <tr>\n",
       "      <th>2</th>\n",
       "      <td>0.023474</td>\n",
       "      <td>0.796071</td>\n",
       "    </tr>\n",
       "  </tbody>\n",
       "</table>\n",
       "</div>"
      ],
      "text/plain": [
       "          0         1\n",
       "0  0.408976  0.180830\n",
       "1  0.519368  0.095863\n",
       "2  0.023474  0.796071"
      ]
     },
     "execution_count": 23,
     "metadata": {},
     "output_type": "execute_result"
    }
   ],
   "source": [
    "df"
   ]
  },
  {
   "cell_type": "code",
   "execution_count": 25,
   "id": "virtual-metro",
   "metadata": {},
   "outputs": [
    {
     "data": {
      "text/plain": [
       "0.09586259059205748"
      ]
     },
     "execution_count": 25,
     "metadata": {},
     "output_type": "execute_result"
    }
   ],
   "source": [
    "df[1][1]"
   ]
  },
  {
   "cell_type": "code",
   "execution_count": 26,
   "id": "unexpected-creation",
   "metadata": {},
   "outputs": [
    {
     "data": {
      "text/plain": [
       "RangeIndex(start=0, stop=2, step=1)"
      ]
     },
     "execution_count": 26,
     "metadata": {},
     "output_type": "execute_result"
    }
   ],
   "source": [
    "df.columns"
   ]
  },
  {
   "cell_type": "code",
   "execution_count": 27,
   "id": "stable-medicine",
   "metadata": {},
   "outputs": [],
   "source": [
    "df.columns = [\"First\", \"Second\"]"
   ]
  },
  {
   "cell_type": "code",
   "execution_count": 28,
   "id": "improved-radiation",
   "metadata": {},
   "outputs": [
    {
     "data": {
      "text/html": [
       "<div>\n",
       "<style scoped>\n",
       "    .dataframe tbody tr th:only-of-type {\n",
       "        vertical-align: middle;\n",
       "    }\n",
       "\n",
       "    .dataframe tbody tr th {\n",
       "        vertical-align: top;\n",
       "    }\n",
       "\n",
       "    .dataframe thead th {\n",
       "        text-align: right;\n",
       "    }\n",
       "</style>\n",
       "<table border=\"1\" class=\"dataframe\">\n",
       "  <thead>\n",
       "    <tr style=\"text-align: right;\">\n",
       "      <th></th>\n",
       "      <th>First</th>\n",
       "      <th>Second</th>\n",
       "    </tr>\n",
       "  </thead>\n",
       "  <tbody>\n",
       "    <tr>\n",
       "      <th>0</th>\n",
       "      <td>0.408976</td>\n",
       "      <td>0.180830</td>\n",
       "    </tr>\n",
       "    <tr>\n",
       "      <th>1</th>\n",
       "      <td>0.519368</td>\n",
       "      <td>0.095863</td>\n",
       "    </tr>\n",
       "    <tr>\n",
       "      <th>2</th>\n",
       "      <td>0.023474</td>\n",
       "      <td>0.796071</td>\n",
       "    </tr>\n",
       "  </tbody>\n",
       "</table>\n",
       "</div>"
      ],
      "text/plain": [
       "      First    Second\n",
       "0  0.408976  0.180830\n",
       "1  0.519368  0.095863\n",
       "2  0.023474  0.796071"
      ]
     },
     "execution_count": 28,
     "metadata": {},
     "output_type": "execute_result"
    }
   ],
   "source": [
    "df"
   ]
  },
  {
   "cell_type": "code",
   "execution_count": 32,
   "id": "reduced-liability",
   "metadata": {},
   "outputs": [
    {
     "data": {
      "text/plain": [
       "0    0.408976\n",
       "1    0.519368\n",
       "2    0.023474\n",
       "Name: First, dtype: float64"
      ]
     },
     "execution_count": 32,
     "metadata": {},
     "output_type": "execute_result"
    }
   ],
   "source": [
    "df[\"First\"]"
   ]
  },
  {
   "cell_type": "code",
   "execution_count": 31,
   "id": "involved-reader",
   "metadata": {},
   "outputs": [
    {
     "data": {
      "text/plain": [
       "0    0.180830\n",
       "1    0.095863\n",
       "2    0.796071\n",
       "Name: Second, dtype: float64"
      ]
     },
     "execution_count": 31,
     "metadata": {},
     "output_type": "execute_result"
    }
   ],
   "source": [
    "df[\"Second\"]"
   ]
  },
  {
   "cell_type": "code",
   "execution_count": null,
   "id": "rocky-climb",
   "metadata": {},
   "outputs": [],
   "source": []
  }
 ],
 "metadata": {
  "kernelspec": {
   "display_name": "Python 3",
   "language": "python",
   "name": "python3"
  },
  "language_info": {
   "codemirror_mode": {
    "name": "ipython",
    "version": 3
   },
   "file_extension": ".py",
   "mimetype": "text/x-python",
   "name": "python",
   "nbconvert_exporter": "python",
   "pygments_lexer": "ipython3",
   "version": "3.7.10"
  }
 },
 "nbformat": 4,
 "nbformat_minor": 5
}
