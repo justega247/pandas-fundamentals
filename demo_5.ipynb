{
 "cells": [
  {
   "cell_type": "code",
   "execution_count": 1,
   "id": "crucial-wildlife",
   "metadata": {},
   "outputs": [],
   "source": [
    "# Outputting Data"
   ]
  },
  {
   "cell_type": "code",
   "execution_count": 2,
   "id": "technological-winter",
   "metadata": {},
   "outputs": [],
   "source": [
    "import pandas as pd\n",
    "import os"
   ]
  },
  {
   "cell_type": "code",
   "execution_count": 3,
   "id": "opposed-theme",
   "metadata": {},
   "outputs": [],
   "source": [
    "# Let's load the data for the first time\n",
    "df = pd.read_pickle(os.path.join('data_frame.pickle'))"
   ]
  },
  {
   "cell_type": "code",
   "execution_count": 4,
   "id": "realistic-terrain",
   "metadata": {},
   "outputs": [],
   "source": [
    "# smaller object for ease\n",
    "small_df = df.iloc[49980:50019, :].copy()"
   ]
  },
  {
   "cell_type": "code",
   "execution_count": 5,
   "id": "considered-journalism",
   "metadata": {},
   "outputs": [],
   "source": [
    "# Basic Excel"
   ]
  },
  {
   "cell_type": "code",
   "execution_count": 8,
   "id": "flush-delhi",
   "metadata": {},
   "outputs": [],
   "source": [
    "small_df.to_excel(\"basic.xlsx\")\n",
    "small_df.to_excel(\"no_index.xlsx\", index=False)\n",
    "small_df.to_excel(\"columns.xlsx\", columns=[\"artist\", \"title\", \"year\"])"
   ]
  },
  {
   "cell_type": "code",
   "execution_count": 9,
   "id": "natural-bahrain",
   "metadata": {},
   "outputs": [],
   "source": [
    "# Multiple worksheets"
   ]
  },
  {
   "cell_type": "code",
   "execution_count": 11,
   "id": "mature-block",
   "metadata": {},
   "outputs": [],
   "source": [
    "writer = pd.ExcelWriter('multiple_sheets.xlsx', engine='xlsxwriter')\n",
    "small_df.to_excel(writer, sheet_name=\"Preview\", index=False)\n",
    "df.to_excel(writer, sheet_name=\"Complete\", index=False)\n",
    "writer.save()"
   ]
  },
  {
   "cell_type": "code",
   "execution_count": 12,
   "id": "associate-pizza",
   "metadata": {},
   "outputs": [],
   "source": [
    "# Coditional Formatting"
   ]
  },
  {
   "cell_type": "code",
   "execution_count": 14,
   "id": "running-dimension",
   "metadata": {},
   "outputs": [],
   "source": [
    "artist_counts = df['artist'].value_counts()\n",
    "artist_counts.head()\n",
    "\n",
    "writer = pd.ExcelWriter('colors.xlsx', engine='xlsxwriter')\n",
    "artist_counts.to_excel(writer, sheet_name='Artist Counts')\n",
    "sheet = writer.sheets['Artist Counts']\n",
    "cells_range = f'B2:B{len(artist_counts.index)}'\n",
    "sheet.conditional_format(cells_range, {\n",
    "    'type': '2_color_scale',\n",
    "    'min_value': '10',\n",
    "    'min_type': 'percentile',\n",
    "    'max_value': '99',\n",
    "    'max_type': 'percentile'\n",
    "})\n",
    "\n",
    "writer.save()"
   ]
  },
  {
   "cell_type": "code",
   "execution_count": 15,
   "id": "racial-harmony",
   "metadata": {},
   "outputs": [],
   "source": [
    "# SQL\n",
    "import sqlite3"
   ]
  },
  {
   "cell_type": "code",
   "execution_count": 16,
   "id": "defined-dover",
   "metadata": {},
   "outputs": [],
   "source": [
    "with sqlite3.connect('my_database.db') as conn:\n",
    "    small_df.to_sql('Tate', conn)"
   ]
  },
  {
   "cell_type": "code",
   "execution_count": 17,
   "id": "black-mentor",
   "metadata": {},
   "outputs": [],
   "source": [
    "# JSON"
   ]
  },
  {
   "cell_type": "code",
   "execution_count": 18,
   "id": "stuck-gibraltar",
   "metadata": {},
   "outputs": [],
   "source": [
    "small_df.to_json('default.json')\n",
    "small_df.to_json('table.json', orient='table')"
   ]
  },
  {
   "cell_type": "code",
   "execution_count": null,
   "id": "interim-north",
   "metadata": {},
   "outputs": [],
   "source": []
  }
 ],
 "metadata": {
  "kernelspec": {
   "display_name": "Python 3",
   "language": "python",
   "name": "python3"
  },
  "language_info": {
   "codemirror_mode": {
    "name": "ipython",
    "version": 3
   },
   "file_extension": ".py",
   "mimetype": "text/x-python",
   "name": "python",
   "nbconvert_exporter": "python",
   "pygments_lexer": "ipython3",
   "version": "3.7.10"
  }
 },
 "nbformat": 4,
 "nbformat_minor": 5
}
